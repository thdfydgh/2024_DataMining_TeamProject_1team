{
 "cells": [
  {
   "cell_type": "markdown",
   "metadata": {},
   "source": [
    "## 사망사고 분류 모델 만들기"
   ]
  },
  {
   "cell_type": "code",
   "execution_count": 72,
   "metadata": {},
   "outputs": [],
   "source": [
    "import pandas as pd\n",
    "import numpy as np\n",
    "#데이터 시각화 라이브러리\n",
    "import seaborn as sns\n",
    "import matplotlib.pyplot as plt\n",
    "import matplotlib as mpl\n",
    "plt.rcParams.update({'font.family':'MalgunGothic'})\n",
    "mpl.rc('axes', unicode_minus=False)\n",
    "\n",
    "from sklearn.preprocessing import StandardScaler\n",
    "from sklearn.model_selection import train_test_split\n",
    "\n",
    "#머신러닝 성능 지표 관련 라이브러리\n",
    "from sklearn.metrics import accuracy_score,precision_score,roc_auc_score,recall_score\n",
    "from sklearn.metrics import precision_recall_curve\n"
   ]
  },
  {
   "cell_type": "code",
   "execution_count": 73,
   "metadata": {},
   "outputs": [],
   "source": [
    "\n",
    "df = pd.read_csv(r\"C:\\Users\\thdfy\\OneDrive\\바탕 화면\\Datamining_Teampro\\data\\2022서울시교통사고현황-데이터셋.csv\",encoding = 'euc-kr')\n",
    "test = pd.read_csv(r\"C:\\Users\\thdfy\\OneDrive\\바탕 화면\\Datamining_Teampro\\data\\2023서울시교통사고현황-데이터셋.csv\",encoding = 'euc-kr')\n"
   ]
  },
  {
   "cell_type": "code",
   "execution_count": 74,
   "metadata": {},
   "outputs": [],
   "source": [
    "df['중상자수'] = df['중상자수'].apply(lambda x: 1 if x >= 2 else x)\n"
   ]
  },
  {
   "cell_type": "code",
   "execution_count": 75,
   "metadata": {},
   "outputs": [
    {
     "name": "stdout",
     "output_type": "stream",
     "text": [
      "사고번호            0\n",
      "사고일시            0\n",
      "요일              0\n",
      "시군구             0\n",
      "사고내용            0\n",
      "사망자수            0\n",
      "중상자수            0\n",
      "경상자수            0\n",
      "부상신고자수          0\n",
      "사고유형            0\n",
      "법규위반            0\n",
      "노면상태            0\n",
      "기상상태            0\n",
      "도로형태            0\n",
      "가해운전자 차종        0\n",
      "가해운전자 성별        0\n",
      "가해운전자 연령        0\n",
      "가해운전자 상해정도      0\n",
      "피해운전자 차종      993\n",
      "피해운전자 성별      993\n",
      "피해운전자 연령      993\n",
      "피해운전자 상해정도    993\n",
      "ECLO            0\n",
      "dtype: int64\n"
     ]
    }
   ],
   "source": [
    "print(df.isnull().sum())"
   ]
  },
  {
   "cell_type": "code",
   "execution_count": 76,
   "metadata": {},
   "outputs": [],
   "source": [
    "df.dropna(inplace=True)"
   ]
  },
  {
   "cell_type": "code",
   "execution_count": 77,
   "metadata": {},
   "outputs": [
    {
     "name": "stdout",
     "output_type": "stream",
     "text": [
      "사고내용\n",
      "경상사고      23723\n",
      "중상사고       6940\n",
      "부상신고사고     1862\n",
      "사망사고        180\n",
      "Name: count, dtype: int64\n",
      "전체 사고중 중상사고의 비율은 21.219996942363554% 입니다\n"
     ]
    }
   ],
   "source": [
    "label='사고내용'\n",
    "print(df[label].value_counts())\n",
    "counts= list(df[label].value_counts())\n",
    "ratio = counts[1]/(counts[0]+counts[1]+counts[2]+counts[3])\n",
    "print(f'전체 사고중 중상사고의 비율은 {str(ratio * 100)}% 입니다')"
   ]
  },
  {
   "cell_type": "markdown",
   "metadata": {},
   "source": [
    "### 데이터 전처리 PART"
   ]
  },
  {
   "cell_type": "code",
   "execution_count": 78,
   "metadata": {},
   "outputs": [],
   "source": [
    "\n",
    "# 불필요해보이는 컬럼 제거\n",
    "'''\n",
    "가해운전자/피해운전자 상해정도,사망자수,중상자수,경상자수,부상신고자수,사고내용은 중상사고여부에 종합하여 정보가 담기고,\n",
    "차대차인지 차대사람인지에 대한 정보가 사고유형에 담기므로 가해운전자 차종과 피해운전자 차종에서 삭제하였음\n",
    "요일은 주말과 평일로 통합하였음\n",
    "'''\n",
    "df.drop(['사고번호', '시군구', '사망자수',  '경상자수', '부상신고자수', '노면상태',\n",
    "            '가해운전자 상해정도', '피해운전자 상해정도', '사고내용', '가해운전자 차종', '피해운전자 차종'], axis=1, inplace=True)\n",
    "\n",
    "##시간에 따른 시계가 교통사고의 요인중 하나일 수 있으므로 발생년월일시에서 시간만 떼어 새로운 컬럼으로 만듬\n",
    "time_lst = list(df['사고일시'])\n",
    "hour_lst = []\n",
    "for time in time_lst:\n",
    "    hour_lst.append((str(time)[-3:-1]))\n",
    "df['사고시각'] = hour_lst\n",
    "\n",
    "# 사고일시 컬럼은 삭제\n",
    "df.drop(['사고일시'], axis=1, inplace=True)\n",
    "\n",
    "# 사고시각에서 22시부터 06시까지를 야간으로, 그외 시간을 야간X로 이진분류하기\n",
    "index2 = df['사고시각'] == '22', '23', '24', '1', '2', '3', '4', '5', '6'\n",
    "df['야간여부'] = index2[0]\n",
    "df.drop(['사고시각'], axis=1, inplace=True)\n",
    "\n",
    "# 주말과 평일로 이진분류하기\n",
    "index3 = df['요일'] == '토요일', '일요일'\n",
    "df['주말여부'] = index3[0]\n",
    "df.drop('요일', axis=1, inplace=True)\n",
    "\n",
    "# 남성과 여성을 1과 0으로 이진분류하기\n",
    "index4 = df['가해운전자 성별'] == '남'\n",
    "df['가해운전자 성별- 여성0 남성1'] = index4\n",
    "df.drop('가해운전자 성별', axis=1, inplace=True)\n",
    "\n",
    "index5 = df['피해운전자 성별'] == '남'\n",
    "df['피해운전자 성별- 여성0 남성1'] = index5\n",
    "df.drop('피해운전자 성별', axis=1, inplace=True)\n",
    "\n",
    "# 중상사고여부와 야간여부,주말여부, 성별을 boolean에서 정수형으로 변환하기\n",
    "df['야간여부'] = df['야간여부'].astype(int)\n",
    "df['주말여부'] = df['야간여부'].astype(int)\n",
    "df['가해운전자 성별- 여성0 남성1'] = df['가해운전자 성별- 여성0 남성1'].astype(int)\n",
    "df['피해운전자 성별- 여성0 남성1'] = df['피해운전자 성별- 여성0 남성1'].astype(int)\n",
    "\n",
    "# 연령 전처리하기\n",
    "# 미분류, 98세 이상 데이터 삭제\n",
    "idx = df[df['가해운전자 연령'] == '98세 이상'].index\n",
    "df.drop(idx, inplace=True)\n",
    "idx = df[df['피해운전자 연령'] == '98세 이상'].index\n",
    "df.drop(idx, inplace=True)\n",
    "\n",
    "idx2 = df[df['가해운전자 연령'] == '미분류'].index\n",
    "df.drop(idx2, inplace=True)\n",
    "idx2 = df[df['피해운전자 연령'] == '미분류'].index\n",
    "df.drop(idx2, inplace=True)\n",
    "\n",
    "# 나이 컬럼: 숫자단위만 뽑기\n",
    "suspect_lst = list((df['가해운전자 연령']))\n",
    "suspect_old = []\n",
    "for old in suspect_lst:\n",
    "    suspect_old.append((old)[:-1])\n",
    "\n",
    "df['가해운전자 연령'] = suspect_old\n",
    "\n",
    "victim_lst = list(df['피해운전자 연령'])\n",
    "victim_old = []\n",
    "for old in victim_lst:\n",
    "    victim_old.append((old)[:-1])\n",
    "df['피해운전자 연령'] = victim_old\n",
    "\n",
    "# 데이터 자료형 변환: 문자열-> 정수형\n",
    "df['가해운전자 연령'] = df['가해운전자 연령'].astype('int')\n",
    "df['피해운전자 연령'] = df['피해운전자 연령'].astype('int')\n",
    "\n",
    "# 나이 단위 정규화하기\n",
    "olds = df[['피해운전자 연령', '가해운전자 연령']]\n",
    "scaler = StandardScaler()\n",
    "scaled_olds = scaler.fit_transform(olds)\n",
    "df[['피해운전자 연령', '가해운전자 연령']] = scaled_olds\n",
    "df.rename({'피해운전자 연령': '피해운전자 연령(정규화 됨)', '가해운전자 연령': '가해운전자 연령(정규화 됨)'}, axis=1, inplace=True)\n",
    "\n",
    "# y(종속변수)가 데이터프레임 끝에 오도록 재배치하기\n",
    "df = df.reindex(columns=['주말여부', '야간여부', '사고유형', '법규위반', '기상상태', '도로형태',\n",
    "                            '가해운전자 성별- 여성0 남성1', '가해운전자 연령(정규화 됨)',\n",
    "                            '피해운전자 성별- 여성0 남성1', '피해운전자 연령(정규화 됨)', '중상자수'])"
   ]
  },
  {
   "cell_type": "code",
   "execution_count": 79,
   "metadata": {},
   "outputs": [
    {
     "data": {
      "text/plain": [
       "(31940, 11)"
      ]
     },
     "execution_count": 79,
     "metadata": {},
     "output_type": "execute_result"
    }
   ],
   "source": [
    "df.shape"
   ]
  },
  {
   "cell_type": "code",
   "execution_count": 80,
   "metadata": {},
   "outputs": [
    {
     "data": {
      "text/plain": [
       "중상자수\n",
       "0    25061\n",
       "1     6879\n",
       "Name: count, dtype: int64"
      ]
     },
     "execution_count": 80,
     "metadata": {},
     "output_type": "execute_result"
    }
   ],
   "source": [
    "df['중상자수'].value_counts()"
   ]
  },
  {
   "cell_type": "code",
   "execution_count": 81,
   "metadata": {},
   "outputs": [],
   "source": [
    "features=['사고유형','법규위반','기상상태','도로형태']\n",
    "df= pd.get_dummies(data=df,columns=features,prefix=features)"
   ]
  },
  {
   "cell_type": "markdown",
   "metadata": {},
   "source": [
    "### 데이터 분할"
   ]
  },
  {
   "cell_type": "code",
   "execution_count": 82,
   "metadata": {},
   "outputs": [
    {
     "name": "stdout",
     "output_type": "stream",
     "text": [
      "X_train의 크기는 25552, y_train의 크기는 25552\n",
      "X_test의 크기는 6388, y_test의 크기는 6388\n"
     ]
    }
   ],
   "source": [
    "from sklearn.model_selection import train_test_split\n",
    "\n",
    "test_size = 0.2\n",
    "\n",
    "# 독립변수와 종속변수 분리\n",
    "X = df.drop(['중상자수'], axis=1)\n",
    "y = df['중상자수']\n",
    "\n",
    "# stratify 파라미터를 사용하여 학습용과 테스트용 데이터 분할\n",
    "X_train, X_test, y_train, y_test = train_test_split(X, y, test_size=test_size, stratify=y, random_state=42)\n",
    "\n",
    "print(f'X_train의 크기는 {len(X_train)}, y_train의 크기는 {len(y_train)}')\n",
    "print(f'X_test의 크기는 {len(X_test)}, y_test의 크기는 {len(y_test)}')\n"
   ]
  },
  {
   "cell_type": "markdown",
   "metadata": {},
   "source": [
    "#### 평가함수 정의"
   ]
  },
  {
   "cell_type": "code",
   "execution_count": 83,
   "metadata": {},
   "outputs": [],
   "source": [
    "def evaluate_model(y_test,y_pred,y_pred_proba):\n",
    "    #모델 평가\n",
    "    roc_val= roc_auc_score(y_test,y_pred_proba)\n",
    "    recall_val= recall_score(y_test,y_pred)\n",
    "    accuracy_val= accuracy_score(y_test,y_pred)\n",
    "    precision_val= precision_score(y_test,y_pred)\n",
    "\n",
    "    print('\\n--------------------------------------')\n",
    "    print(f'ROC_AUC는 {roc_val} 입니다')\n",
    "    print(f'recall_score는 {recall_val} 입니다')\n",
    "    print(f'precision_score는 {precision_val} 입니다')\n",
    "    print(f'accuracy_score는 {accuracy_val} 입니다')\n",
    "    print('--------------------------------------')\n",
    "\n",
    "    print(f'전체 테스트셋 데이터 에서 1(사망)으로 예측한 비율은 {y_pred.sum()/len(y_pred)}입니다')"
   ]
  },
  {
   "cell_type": "code",
   "execution_count": 84,
   "metadata": {},
   "outputs": [],
   "source": [
    "def feature_importance(clf,X_train):\n",
    "    # feature_importance를 배열형태로 반환\n",
    "    ft_importance_values = clf.feature_importances_\n",
    "    max_val= max(ft_importance_values)\n",
    "    scaled_ft_importance_values= ft_importance_values/max_val\n",
    "    print(ft_importance_values)\n",
    "\n",
    "    # 정렬과 시각화를 쉽게 하기 위해 series 전환\n",
    "    ft_series = pd.Series(scaled_ft_importance_values, index = X_train.columns)\n",
    "    ft_top20 = ft_series.sort_values(ascending=False)[:20]\n",
    "\n",
    "    # 시각화\n",
    "    plt.figure(figsize=(8,6))\n",
    "    plt.xticks(np.arange(0,1.05,0.05) ,rotation='45')\n",
    "    plt.title('Feature Importance Top 20')\n",
    "    sns.barplot(x=ft_top20, y=ft_top20.index)\n",
    "    plt.show()"
   ]
  },
  {
   "cell_type": "code",
   "execution_count": 85,
   "metadata": {},
   "outputs": [],
   "source": [
    "def precision_recall_curve_plot(y_test,pred_proba_c1):\n",
    "    precisions, recalls, thresholds= precision_recall_curve(y_test,pred_proba_c1)\n",
    "    #threshold array와 이 threshold에 따른 정밀도, 재현율을 반환한다\n",
    "    precisions, recalls, thresholds= precision_recall_curve(y_test,pred_proba_c1)\n",
    "\n",
    "    #x축을 threshold값으로, y축을 정밀도, 재현율 값으로 각각 plot을 수행한다. 정밀도는 점선으로 표기한다\n",
    "    plt.figure(figsize=(8,6))\n",
    "    threshold_boundary= thresholds.shape[0]\n",
    "    plt.plot(thresholds,precisions[0:threshold_boundary],linestyle='--',label='precision')\n",
    "    plt.plot(thresholds,recalls[0:threshold_boundary],label='recall')\n",
    "\n",
    "    #thresholds 값 X축의 scale을 0.1 단위로 변경한다\n",
    "    start, end= plt.xlim()\n",
    "    plt.xticks(np.round(np.arange(start,end,0.1),2))\n",
    "\n",
    "    #x축, y축, label과 legend, 그리고 grid를 설정한다\n",
    "    plt.xlabel('Threshold value'); plt.ylabel('Precision and Recall Value')\n",
    "    plt.legend(loc='best')\n",
    "    plt.show()\n"
   ]
  },
  {
   "cell_type": "code",
   "execution_count": 86,
   "metadata": {},
   "outputs": [],
   "source": [
    "import matplotlib.pyplot as plt\n",
    "import matplotlib.font_manager as fm\n",
    "font_path = r\"C:\\Windows\\Fonts\\malgun.ttf\"  # 정확한 파일명으로 변경\n",
    "fontprop = fm.FontProperties(fname=font_path)\n",
    "\n",
    "# Matplotlib의 기본 폰트를 '맑은 고딕'으로 설정합니다.\n",
    "plt.rc('font', family=fontprop.get_name())\n",
    "\n",
    "# 한글 폰트가 깨질 경우를 대비하여 유니코드 마이너스를 사용하지 않도록 설정합니다.\n",
    "plt.rcParams['axes.unicode_minus'] = False"
   ]
  },
  {
   "cell_type": "code",
   "execution_count": 88,
   "metadata": {},
   "outputs": [
    {
     "name": "stdout",
     "output_type": "stream",
     "text": [
      "Gradient Boosting Classifier - Precision and Recall Curve\n"
     ]
    },
    {
     "data": {
      "image/png": "[encoded data removed]",
      "text/plain": [
       "<Figure size 800x600 with 1 Axes>"
      ]
     },
     "metadata": {},
     "output_type": "display_data"
    },
    {
     "name": "stdout",
     "output_type": "stream",
     "text": [
      "Support Vector Machine - Precision and Recall Curve\n"
     ]
    },
    {
     "data": {
      "image/png": "[encoded data removed]",
      "text/plain": [
       "<Figure size 800x600 with 1 Axes>"
      ]
     },
     "metadata": {},
     "output_type": "display_data"
    },
    {
     "name": "stdout",
     "output_type": "stream",
     "text": [
      "Gradient Boosting Classifier\n",
      "Accuracy: 0.7867877269881027\n",
      "              precision    recall  f1-score   support\n",
      "\n",
      "           0       0.79      0.98      0.88      5012\n",
      "           1       0.54      0.08      0.13      1376\n",
      "\n",
      "    accuracy                           0.79      6388\n",
      "   macro avg       0.67      0.53      0.51      6388\n",
      "weighted avg       0.74      0.79      0.72      6388\n",
      "\n",
      "Support Vector Machine\n",
      "Accuracy: 0.7866311834690044\n",
      "              precision    recall  f1-score   support\n",
      "\n",
      "           0       0.79      0.99      0.88      5012\n",
      "           1       0.55      0.05      0.09      1376\n",
      "\n",
      "    accuracy                           0.79      6388\n",
      "   macro avg       0.67      0.52      0.48      6388\n",
      "weighted avg       0.74      0.79      0.71      6388\n",
      "\n"
     ]
    }
   ],
   "source": [
    "import pandas as pd\n",
    "import numpy as np\n",
    "from sklearn.model_selection import train_test_split\n",
    "from sklearn.ensemble import GradientBoostingClassifier\n",
    "from sklearn.svm import SVC\n",
    "from sklearn.metrics import classification_report, accuracy_score, precision_recall_curve\n",
    "import matplotlib.pyplot as plt\n",
    "\n",
    "# 데이터 분할\n",
    "test_size = 0.2\n",
    "X = df.drop(['중상자수'], axis=1)\n",
    "y = df['중상자수']\n",
    "X_train, X_test, y_train, y_test = train_test_split(X, y, test_size=test_size, stratify=y, random_state=42)\n",
    "\n",
    "# Gradient Boosting Classifier 모델 학습\n",
    "gb_clf = GradientBoostingClassifier(random_state=42)\n",
    "gb_clf.fit(X_train, y_train)\n",
    "\n",
    "# 예측 확률 계산\n",
    "pred_proba_gb = gb_clf.predict_proba(X_test)[:, 1]\n",
    "\n",
    "# Support Vector Machine (SVM) 모델 학습\n",
    "svm_clf = SVC(probability=True, random_state=42)\n",
    "svm_clf.fit(X_train, y_train)\n",
    "\n",
    "# 예측 확률 계산\n",
    "pred_proba_svm = svm_clf.predict_proba(X_test)[:, 1]\n",
    "\n",
    "# 정밀도-재현율 곡선 시각화 함수\n",
    "def precision_recall_curve_plot(y_test, pred_proba_c1):\n",
    "    precisions, recalls, thresholds = precision_recall_curve(y_test, pred_proba_c1)\n",
    "    \n",
    "    # x축을 threshold 값으로, y축을 정밀도, 재현율 값으로 각각 plot 수행\n",
    "    plt.figure(figsize=(8,6))\n",
    "    threshold_boundary = thresholds.shape[0]\n",
    "    plt.plot(thresholds, precisions[0:threshold_boundary], linestyle='--', label='Precision')\n",
    "    plt.plot(thresholds, recalls[0:threshold_boundary], label='Recall')\n",
    "\n",
    "    # thresholds 값 X축의 scale을 0.1 단위로 변경\n",
    "    start, end = plt.xlim()\n",
    "    plt.xticks(np.round(np.arange(start, end, 0.1), 2))\n",
    "\n",
    "    # x축, y축 label과 legend, grid 설정\n",
    "    plt.xlabel('Threshold value')\n",
    "    plt.ylabel('Precision and Recall Value')\n",
    "    plt.legend(loc='best')\n",
    "    plt.grid()\n",
    "    plt.show()\n",
    "\n",
    "# Gradient Boosting Classifier의 정밀도-재현율 곡선\n",
    "print(\"Gradient Boosting Classifier - Precision and Recall Curve\")\n",
    "precision_recall_curve_plot(y_test, pred_proba_gb)\n",
    "\n",
    "# SVM의 정밀도-재현율 곡선\n",
    "print(\"Support Vector Machine - Precision and Recall Curve\")\n",
    "precision_recall_curve_plot(y_test, pred_proba_svm)\n",
    "\n",
    "# 모델 평가\n",
    "print(\"Gradient Boosting Classifier\")\n",
    "y_pred_gb = gb_clf.predict(X_test)\n",
    "print(f\"Accuracy: {accuracy_score(y_test, y_pred_gb)}\")\n",
    "print(classification_report(y_test, y_pred_gb))\n",
    "\n",
    "print(\"Support Vector Machine\")\n",
    "y_pred_svm = svm_clf.predict(X_test)\n",
    "print(f\"Accuracy: {accuracy_score(y_test, y_pred_svm)}\")\n",
    "print(classification_report(y_test, y_pred_svm))\n"
   ]
  },
  {
   "cell_type": "code",
   "execution_count": 89,
   "metadata": {},
   "outputs": [
    {
     "name": "stderr",
     "output_type": "stream",
     "text": [
      "C:\\Users\\thdfy\\AppData\\Local\\Temp\\ipykernel_19680\\3782460952.py:8: RuntimeWarning: invalid value encountered in divide\n",
      "  f1_scores = 2 * (precisions * recalls) / (precisions + recalls)\n"
     ]
    },
    {
     "name": "stdout",
     "output_type": "stream",
     "text": [
      "Gradient Boosting Classifier (Adjusted Threshold)\n",
      "              precision    recall  f1-score   support\n",
      "\n",
      "           0       0.85      0.72      0.78      5012\n",
      "           1       0.35      0.55      0.43      1376\n",
      "\n",
      "    accuracy                           0.68      6388\n",
      "   macro avg       0.60      0.63      0.60      6388\n",
      "weighted avg       0.75      0.68      0.70      6388\n",
      "\n",
      "Support Vector Machine (Adjusted Threshold)\n",
      "              precision    recall  f1-score   support\n",
      "\n",
      "           0       0.78      1.00      0.88      5012\n",
      "           1       0.00      0.00      0.00      1376\n",
      "\n",
      "    accuracy                           0.78      6388\n",
      "   macro avg       0.39      0.50      0.44      6388\n",
      "weighted avg       0.62      0.78      0.69      6388\n",
      "\n"
     ]
    }
   ],
   "source": [
    "from sklearn.metrics import precision_recall_curve\n",
    "\n",
    "def adjust_threshold(model, X_test, y_test):\n",
    "    y_pred_proba = model.predict_proba(X_test)[:, 1]\n",
    "    precisions, recalls, thresholds = precision_recall_curve(y_test, y_pred_proba)\n",
    "\n",
    "    # 최적의 threshold 선택 (예: F1-score를 최대화하는 임계값)\n",
    "    f1_scores = 2 * (precisions * recalls) / (precisions + recalls)\n",
    "    best_threshold = thresholds[np.argmax(f1_scores)]\n",
    "\n",
    "    return best_threshold\n",
    "\n",
    "# 모델 훈련 후 임계값 조정\n",
    "best_threshold_gb = adjust_threshold(gb_clf, X_test, y_test)\n",
    "best_threshold_svm = adjust_threshold(svm_clf, X_test, y_test)\n",
    "\n",
    "# 새로운 임계값을 적용한 예측\n",
    "y_pred_gb_new = (gb_clf.predict_proba(X_test)[:, 1] >= best_threshold_gb).astype(int)\n",
    "y_pred_svm_new = (svm_clf.predict_proba(X_test)[:, 1] >= best_threshold_svm).astype(int)\n",
    "\n",
    "# 성능 평가\n",
    "print(\"Gradient Boosting Classifier (Adjusted Threshold)\")\n",
    "print(classification_report(y_test, y_pred_gb_new))\n",
    "\n",
    "print(\"Support Vector Machine (Adjusted Threshold)\")\n",
    "print(classification_report(y_test, y_pred_svm_new))\n"
   ]
  },
  {
   "cell_type": "markdown",
   "metadata": {},
   "source": [
    "#### 모델링1 : imblance data이기 때문에 Oversamling + UnderSampling"
   ]
  },
  {
   "cell_type": "markdown",
   "metadata": {},
   "source": [
    "<pre>SMOTE를 사용하여 클래스 2를 2000개로 오버샘플링합니다.\n",
    "RandomUnderSampler를 사용하여 클래스 0을 7000개로 언더샘플링합니다.\n",
    "균형 맞춘 데이터를 사용하여 두 가지 모델(Gradient Boosting Classifier 및 Support Vector Machine)을 재훈련하고, 성능을 평가합니다."
   ]
  },
  {
   "cell_type": "code",
   "execution_count": 92,
   "metadata": {},
   "outputs": [
    {
     "name": "stdout",
     "output_type": "stream",
     "text": [
      "Gradient Boosting Classifier (Resampled Data)\n",
      "              precision    recall  f1-score   support\n",
      "\n",
      "           0       0.71      0.94      0.81      4010\n",
      "           1       0.65      0.24      0.35      2005\n",
      "\n",
      "    accuracy                           0.70      6015\n",
      "   macro avg       0.68      0.59      0.58      6015\n",
      "weighted avg       0.69      0.70      0.65      6015\n",
      "\n",
      "Support Vector Machine (Resampled Data)\n",
      "              precision    recall  f1-score   support\n",
      "\n",
      "           0       0.72      0.92      0.81      4010\n",
      "           1       0.64      0.28      0.39      2005\n",
      "\n",
      "    accuracy                           0.71      6015\n",
      "   macro avg       0.68      0.60      0.60      6015\n",
      "weighted avg       0.69      0.71      0.67      6015\n",
      "\n"
     ]
    }
   ],
   "source": [
    "from imblearn.over_sampling import SMOTE\n",
    "from imblearn.under_sampling import RandomUnderSampler\n",
    "from imblearn.pipeline import Pipeline\n",
    "\n",
    "# 오버샘플링 + 언더샘플링을 통한 데이터 균형 맞추기\n",
    "over = SMOTE(sampling_strategy=0.4)  # 소수 클래스 비율을 40%로 맞추기\n",
    "under = RandomUnderSampler(sampling_strategy=0.5)  # 다수 클래스 비율을 50%로 줄이기\n",
    "\n",
    "steps = [('o', over), ('u', under)]\n",
    "pipeline = Pipeline(steps=steps)\n",
    "\n",
    "X_resampled, y_resampled = pipeline.fit_resample(X, y)\n",
    "\n",
    "# 다시 데이터 분할\n",
    "X_train_resampled, X_test, y_train_resampled, y_test = train_test_split(X_resampled, y_resampled, test_size=test_size, stratify=y_resampled, random_state=42)\n",
    "\n",
    "# 모델 재훈련\n",
    "gb_clf_resampled = GradientBoostingClassifier(random_state=42)\n",
    "gb_clf_resampled.fit(X_train_resampled, y_train_resampled)\n",
    "\n",
    "svm_clf_resampled = SVC(probability=True, random_state=42)\n",
    "svm_clf_resampled.fit(X_train_resampled, y_train_resampled)\n",
    "\n",
    "# 성능 평가\n",
    "print(\"Gradient Boosting Classifier (Resampled Data)\")\n",
    "y_pred_gb_resampled = gb_clf_resampled.predict(X_test)\n",
    "print(classification_report(y_test, y_pred_gb_resampled))\n",
    "\n",
    "print(\"Support Vector Machine (Resampled Data)\")\n",
    "y_pred_svm_resampled = svm_clf_resampled.predict(X_test)\n",
    "print(classification_report(y_test, y_pred_svm_resampled))\n"
   ]
  },
  {
   "cell_type": "markdown",
   "metadata": {},
   "source": [
    "##### KFold Validation"
   ]
  },
  {
   "cell_type": "code",
   "execution_count": null,
   "metadata": {},
   "outputs": [
    {
     "name": "stdout",
     "output_type": "stream",
     "text": [
      "Gradient Boosting Classifier Cross-validation F1 Scores: [0.85478548 0.84227911 0.84184915 0.85057471 0.82990961]\n",
      "Mean F1 Score: 0.8438796123179048\n",
      "Support Vector Machine Cross-validation F1 Scores: [0.93170732 0.91336032 0.9057508  0.90807354 0.8930008 ]\n",
      "Mean F1 Score: 0.9103785570708303\n"
     ]
    }
   ],
   "source": [
    "from sklearn.model_selection import StratifiedKFold, cross_val_score\n",
    "\n",
    "# Stratified K-Fold cross-validator\n",
    "skf = StratifiedKFold(n_splits=5, shuffle=True, random_state=42)\n",
    "\n",
    "# Gradient Boosting Classifier with resampled data\n",
    "gb_clf_resampled = GradientBoostingClassifier(random_state=42)\n",
    "scores_gb = cross_val_score(gb_clf_resampled, X_resampled, y_resampled, cv=skf, scoring='f1')\n",
    "print(f\"Gradient Boosting Classifier Cross-validation F1 Scores: {scores_gb}\")\n",
    "print(f\"Mean F1 Score: {scores_gb.mean()}\")\n",
    "\n",
    "# Support Vector Machine with resampled data\n",
    "svm_clf_resampled = SVC(probability=True, random_state=42)\n",
    "scores_svm = cross_val_score(svm_clf_resampled, X_resampled, y_resampled, cv=skf, scoring='f1')\n",
    "print(f\"Support Vector Machine Cross-validation F1 Scores: {scores_svm}\")\n",
    "print(f\"Mean F1 Score: {scores_svm.mean()}\")\n"
   ]
  },
  {
   "cell_type": "markdown",
   "metadata": {},
   "source": [
    "#### Emseble"
   ]
  },
  {
   "cell_type": "code",
   "execution_count": 98,
   "metadata": {},
   "outputs": [
    {
     "name": "stdout",
     "output_type": "stream",
     "text": [
      "[LightGBM] [Warning] Found whitespace in feature_names, replace with underlines\n",
      "[LightGBM] [Info] Number of positive: 8019, number of negative: 16038\n",
      "[LightGBM] [Info] Auto-choosing col-wise multi-threading, the overhead of testing was 0.001856 seconds.\n",
      "You can set `force_col_wise=true` to remove the overhead.\n",
      "[LightGBM] [Info] Total Bins 562\n",
      "[LightGBM] [Info] Number of data points in the train set: 24057, number of used features: 42\n",
      "[LightGBM] [Info] [binary:BoostFromScore]: pavg=0.333333 -> initscore=-0.693147\n",
      "[LightGBM] [Info] Start training from score -0.693147\n",
      "Ensemble Classifier\n",
      "              precision    recall  f1-score   support\n",
      "\n",
      "           0       0.74      0.93      0.83      4010\n",
      "           1       0.72      0.36      0.48      2005\n",
      "\n",
      "    accuracy                           0.74      6015\n",
      "   macro avg       0.73      0.65      0.65      6015\n",
      "weighted avg       0.74      0.74      0.71      6015\n",
      "\n"
     ]
    }
   ],
   "source": [
    "from xgboost import XGBClassifier\n",
    "from lightgbm import LGBMClassifier\n",
    "from sklearn.ensemble import VotingClassifier\n",
    "from catboost import CatBoostClassifier\n",
    "# 앙상블 모델 생성\n",
    "ensemble_clf = VotingClassifier(estimators=[\n",
    "    ('xgb', XGBClassifier(use_label_encoder=False, eval_metric='mlogloss', random_state=42)),\n",
    "    ('lgbm', LGBMClassifier(random_state=42)),\n",
    "    ('cat', CatBoostClassifier(verbose=0, random_state=42)),\n",
    "    ('svm', SVC(probability=True, random_state=42))\n",
    "], voting='soft')\n",
    "\n",
    "# 앙상블 모델 학습\n",
    "ensemble_clf.fit(X_train_resampled, y_train_resampled)\n",
    "\n",
    "# 성능 평가\n",
    "y_pred_ensemble = ensemble_clf.predict(X_test)\n",
    "print(\"Ensemble Classifier\")\n",
    "print(classification_report(y_test, y_pred_ensemble))"
   ]
  },
  {
   "cell_type": "code",
   "execution_count": 96,
   "metadata": {},
   "outputs": [
    {
     "ename": "KeyError",
     "evalue": "'gb'",
     "output_type": "error",
     "traceback": [
      "\u001b[1;31m---------------------------------------------------------------------------\u001b[0m",
      "\u001b[1;31mKeyError\u001b[0m                                  Traceback (most recent call last)",
      "Cell \u001b[1;32mIn[96], line 5\u001b[0m\n\u001b[0;32m      2\u001b[0m \u001b[38;5;28;01mimport\u001b[39;00m \u001b[38;5;21;01mnumpy\u001b[39;00m \u001b[38;5;28;01mas\u001b[39;00m \u001b[38;5;21;01mnp\u001b[39;00m\n\u001b[0;32m      4\u001b[0m \u001b[38;5;66;03m# VotingClassifier에서 Gradient Boosting Classifier 추출\u001b[39;00m\n\u001b[1;32m----> 5\u001b[0m gb_clf \u001b[38;5;241m=\u001b[39m \u001b[43mensemble_clf\u001b[49m\u001b[38;5;241;43m.\u001b[39;49m\u001b[43mnamed_estimators_\u001b[49m\u001b[43m[\u001b[49m\u001b[38;5;124;43m'\u001b[39;49m\u001b[38;5;124;43mgb\u001b[39;49m\u001b[38;5;124;43m'\u001b[39;49m\u001b[43m]\u001b[49m\n\u001b[0;32m      7\u001b[0m \u001b[38;5;66;03m# 피처 중요도 추출\u001b[39;00m\n\u001b[0;32m      8\u001b[0m feature_importance \u001b[38;5;241m=\u001b[39m gb_clf\u001b[38;5;241m.\u001b[39mfeature_importances_\n",
      "File \u001b[1;32mc:\\Users\\thdfy\\anaconda3\\envs\\py310\\lib\\site-packages\\sklearn\\utils\\_bunch.py:39\u001b[0m, in \u001b[0;36mBunch.__getitem__\u001b[1;34m(self, key)\u001b[0m\n\u001b[0;32m     34\u001b[0m \u001b[38;5;28;01mif\u001b[39;00m key \u001b[38;5;129;01min\u001b[39;00m \u001b[38;5;28mself\u001b[39m\u001b[38;5;241m.\u001b[39m\u001b[38;5;18m__dict__\u001b[39m\u001b[38;5;241m.\u001b[39mget(\u001b[38;5;124m\"\u001b[39m\u001b[38;5;124m_deprecated_key_to_warnings\u001b[39m\u001b[38;5;124m\"\u001b[39m, {}):\n\u001b[0;32m     35\u001b[0m     warnings\u001b[38;5;241m.\u001b[39mwarn(\n\u001b[0;32m     36\u001b[0m         \u001b[38;5;28mself\u001b[39m\u001b[38;5;241m.\u001b[39m_deprecated_key_to_warnings[key],\n\u001b[0;32m     37\u001b[0m         \u001b[38;5;167;01mFutureWarning\u001b[39;00m,\n\u001b[0;32m     38\u001b[0m     )\n\u001b[1;32m---> 39\u001b[0m \u001b[38;5;28;01mreturn\u001b[39;00m \u001b[38;5;28;43msuper\u001b[39;49m\u001b[43m(\u001b[49m\u001b[43m)\u001b[49m\u001b[38;5;241;43m.\u001b[39;49m\u001b[38;5;21;43m__getitem__\u001b[39;49m\u001b[43m(\u001b[49m\u001b[43mkey\u001b[49m\u001b[43m)\u001b[49m\n",
      "\u001b[1;31mKeyError\u001b[0m: 'gb'"
     ]
    }
   ],
   "source": [
    "import matplotlib.pyplot as plt\n",
    "import numpy as np\n",
    "\n",
    "# VotingClassifier에서 Gradient Boosting Classifier 추출\n",
    "gb_clf = ensemble_clf.named_estimators_['gb']\n",
    "\n",
    "# 피처 중요도 추출\n",
    "feature_importance = gb_clf.feature_importances_\n",
    "\n",
    "# 피처 중요도를 내림차순으로 정렬\n",
    "sorted_idx = np.argsort(feature_importance)[::-1]\n",
    "sorted_feature_importance = feature_importance[sorted_idx]\n",
    "sorted_feature_names = X_train_resampled.columns[sorted_idx]\n",
    "\n",
    "# 피처 중요도 시각화\n",
    "plt.figure(figsize=(12, 8))\n",
    "plt.barh(range(len(sorted_feature_importance)), sorted_feature_importance, align='center')\n",
    "plt.yticks(range(len(sorted_feature_importance)), sorted_feature_names)\n",
    "plt.xlabel('Feature Importance')\n",
    "plt.ylabel('Feature')\n",
    "plt.title('Feature Importance in Gradient Boosting Classifier within Ensemble')\n",
    "plt.gca().invert_yaxis()\n",
    "plt.show()\n"
   ]
  },
  {
   "cell_type": "code",
   "execution_count": null,
   "metadata": {},
   "outputs": [],
   "source": []
  }
 ],
 "metadata": {
  "kernelspec": {
   "display_name": "Python 3",
   "language": "python",
   "name": "python3"
  },
  "language_info": {
   "codemirror_mode": {
    "name": "ipython",
    "version": 3
   },
   "file_extension": ".py",
   "mimetype": "text/x-python",
   "name": "python",
   "nbconvert_exporter": "python",
   "pygments_lexer": "ipython3",
   "version": "3.10.14"
  }
 },
 "nbformat": 4,
 "nbformat_minor": 2
}
